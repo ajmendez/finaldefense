{
 "metadata": {
  "name": ""
 },
 "nbformat": 3,
 "nbformat_minor": 0,
 "worksheets": [
  {
   "cells": [
    {
     "cell_type": "code",
     "collapsed": false,
     "input": [
      "import json\n",
      "import email\n",
      "import oauth2test as oauth2\n",
      "import pickle\n",
      "import imaplib\n",
      "import chardet\n",
      "import calendar\n",
      "import oauth2gmail\n",
      "import pandas as pd\n",
      "from pprint import pprint\n",
      "from datetime import datetime\n",
      "from pymendez.auth import auth\n",
      "from collections import Counter\n",
      "from oauth2gmail import GMail_IMAP\n",
      "from email.utils import parsedate, parsedate_tz, mktime_tz"
     ],
     "language": "python",
     "metadata": {},
     "outputs": [],
     "prompt_number": 90
    },
    {
     "cell_type": "code",
     "collapsed": false,
     "input": [
      "def setup():\n",
      "    client_id, client_secret = auth('gmail2', ('id', 'secret'))\n",
      "    print 'To authorize token, visit this url and follow the directions:'\n",
      "    print ' %s' % oauth2.GeneratePermissionUrl(client_id)\n",
      "    authorization_code = raw_input('Enter verification code: ')\n",
      "    response = oauth2.AuthorizeTokens(client_id,client_secret,authorization_code)\n",
      "    print \"Refresh Toke :\",response['refresh_token']\n",
      "    print \"Access Token :\",response['access_token']\n",
      "    print \"Expires in :\",response['expires_in']\n",
      "\n",
      "class Credentials(object):\n",
      "    def __init__(self):\n",
      "        self.items = ('username', 'id','secret','refresh','access')\n",
      "        username,ident,secret,refresh,access = auth('gmail2',self.items)\n",
      "        self.username = username\n",
      "        self.ident = ident\n",
      "        self.secret = secret\n",
      "        self.refresh = refresh\n",
      "        response = oauth2.RefreshToken(ident,secret,refresh)\n",
      "        self.access_token = response['access_token']\n",
      "        self.access_token_expired = False\n"
     ],
     "language": "python",
     "metadata": {},
     "outputs": [],
     "prompt_number": 2
    },
    {
     "cell_type": "code",
     "collapsed": false,
     "input": [
      "# setup()\n",
      "cred = Credentials()\n",
      "imap = GMail_IMAP()\n",
      "imap.login_oauth2(cred.username, cred)"
     ],
     "language": "python",
     "metadata": {},
     "outputs": [],
     "prompt_number": 74
    },
    {
     "cell_type": "code",
     "collapsed": false,
     "input": [
      "def get_value(item, lines):\n",
      "    '''Get a item value from a set of lines'''\n",
      "    for line in lines:\n",
      "        temp = line.replace('>','').strip() \n",
      "#         if (temp.startswith(item) and (len(temp) > 0)):\n",
      "        if ((item in temp) and (len(temp) > 0) and ('3:55:03 PM PDT' not in temp)):\n",
      "            return item.lower(), ':'.join(line.split(':')[1:])\n",
      "    if item == 'Title':\n",
      "        return item.lower(), ''\n",
      "    \n",
      "    raise ValueError('Missing %s'%item)\n",
      "    \n",
      "    \n",
      "def filter_values(item, text, lines):\n",
      "    '''Apply some filters to the parsed values.\n",
      "    TODO: use a dictionary to map these changes.\n",
      "    '''\n",
      "    if ('Advisor' in text) and (item == 'Research Supervisor'): item = 'Advisor'\n",
      "#     elif ('Research Advisor' in text) and (item == 'Research Supervisor'): item = 'Research Advisor'\n",
      "    elif ('Location' in text) and (item == 'Place'): item = 'Location'\n",
      "#     elif 'Title' not in text: return 'title',''\n",
      "    name, value = get_value(item, lines)\n",
      "    if item == 'Advisor': name = 'research supervisor'\n",
      "#     elif item == 'Research Advisor': name = 'research supervisor'\n",
      "    elif item == 'Location': name = 'place'\n",
      "    \n",
      "    # clean up\n",
      "    value = value.replace('\"','')\n",
      "    value = value.replace('=93','').replace('=94','')\n",
      "    value = value.replace('=20','').replace('=0B','').replace('=3D','~')\n",
      "    return name, value.strip()\n",
      "    \n",
      "    \n",
      "def get_subject(email):\n",
      "    '''Clean all of the crap from the subject'''\n",
      "    subject = email.get('subject')\n",
      "    subject = subject.replace('[All-at-Physics]','')\n",
      "    subject = subject.replace('Date correction:','')\n",
      "    subject = subject.replace('Fwd:','').replace('RE:','')\n",
      "    subject = subject.replace('\\r','').replace('\\n','').replace('\\t',' ')\n",
      "    return subject.strip()\n",
      "\n",
      "\n",
      "def split_email(text):\n",
      "    # break up using the boundry to identify the plain/text bit\n",
      "    key = 'boundary'\n",
      "    if key in text:\n",
      "        tmp = text.split(key + '=')[1].splitlines()[0].replace('\"','')\n",
      "        out = text.split(tmp)\n",
      "        \n",
      "        if len(out) in [3,5]:\n",
      "            out = out[2]\n",
      "        else:\n",
      "            out = out[1]\n",
      "        out = out.replace('*','')\n",
      "        # if a line ends with and '=' it is continued.\n",
      "        out = out.replace('=\\r\\n','')\n",
      "    else:\n",
      "        out = text\n",
      "    return out.splitlines()\n",
      "\n",
      "\n",
      "def parse_email(email):\n",
      "    '''Get the specific details from the email message'''\n",
      "    items = ['Student','Date','Time','Place','Title',\n",
      "             'Research Supervisor']\n",
      "    out = {'sent':email.get('date'),\n",
      "           'from':email.get('from'),\n",
      "           'subject':get_subject(email)}\n",
      "    \n",
      "    # handle that multipart crap -- why not just store a plain/text\n",
      "    if email.is_multipart():\n",
      "        text = email.get_payload(0).as_string()\n",
      "    else:\n",
      "        text = email.get_payload()\n",
      "    \n",
      "\n",
      "    # break up the lines for easy retreval\n",
      "    lines = []\n",
      "    content_type = email.get_content_type()\n",
      "    if content_type == 'multipart/mixed':\n",
      "        lines = split_email(text)\n",
      "    elif content_type == 'text/plain':\n",
      "        lines = text.splitlines()\n",
      "    \n",
      "    # Grab each of the items from the lines.\n",
      "    if len(lines) > 1:\n",
      "        for item in items:\n",
      "            try:\n",
      "                name,value = filter_values(item, text, lines)\n",
      "                out[name] = value\n",
      "            except Exception as e:\n",
      "                print 'missing item: %s'%item\n",
      "                print lines\n",
      "                raise\n",
      "        return out\n",
      "if DEBUG:\n",
      "    pprint(parse_email(email))"
     ],
     "language": "python",
     "metadata": {},
     "outputs": [],
     "prompt_number": 76
    },
    {
     "cell_type": "code",
     "collapsed": false,
     "input": [
      "data = {}\n",
      "try:\n",
      "    DEBUG = False\n",
      "    if DEBUG:\n",
      "        TERM = 'DEFENSE after:2013/3/11 before:2014/1/9'\n",
      "    else:\n",
      "        TERM = 'DEFENSE'\n",
      "    for info, email in imap.gmsearch_messages(TERM):\n",
      "        \n",
      "        if 'DEFENSE' not in email['subject']:\n",
      "            continue\n",
      "        if 'Fwd' in email['subject']:\n",
      "            continue\n",
      "        if ('Alexander Mendez' in email['from'] or\n",
      "            'Darcy Barron' in email['from'] or\n",
      "            'Liz Rivers' in email['from'] or \n",
      "            'liz.rivers' in email['from'] or \n",
      "            'Nathan Johnson' in email['from']):\n",
      "            continue\n",
      "        \n",
      "        tmp = parse_email(email)\n",
      "        data[tmp['sent']] = tmp\n",
      "        print tmp['sent']\n",
      "        if ('Aaron' in tmp['subject']) and DEBUG:\n",
      "            break\n",
      "finally:\n",
      "    if not DEBUG:\n",
      "        with open('data/emails.txt', 'w') as e:\n",
      "            json.dump(data, e, indent=2)\n"
     ],
     "language": "python",
     "metadata": {},
     "outputs": [
      {
       "output_type": "stream",
       "stream": "stdout",
       "text": [
        "Found 484 emails\n",
        "Tue, 16 Dec 2008 09:06:08 -0800"
       ]
      },
      {
       "output_type": "stream",
       "stream": "stdout",
       "text": [
        "\n",
        "Fri, 19 Dec 2008 10:19:08 -0800"
       ]
      },
      {
       "output_type": "stream",
       "stream": "stdout",
       "text": [
        "\n",
        "Tue, 6 Jan 2009 17:04:35 -0800"
       ]
      },
      {
       "output_type": "stream",
       "stream": "stdout",
       "text": [
        "\n",
        "Tue, 24 Feb 2009 16:04:20 -0800"
       ]
      },
      {
       "output_type": "stream",
       "stream": "stdout",
       "text": [
        "\n",
        "Tue, 3 Mar 2009 09:03:16 -0800"
       ]
      },
      {
       "output_type": "stream",
       "stream": "stdout",
       "text": [
        "\n",
        "Wed, 4 Mar 2009 08:49:47 -0800"
       ]
      },
      {
       "output_type": "stream",
       "stream": "stdout",
       "text": [
        "\n",
        "Tue, 31 Mar 2009 13:29:58 -0700"
       ]
      },
      {
       "output_type": "stream",
       "stream": "stdout",
       "text": [
        "\n",
        "Mon, 6 Apr 2009 09:18:45 -0700"
       ]
      },
      {
       "output_type": "stream",
       "stream": "stdout",
       "text": [
        "\n",
        "Thu, 30 Apr 2009 16:42:59 -0700"
       ]
      },
      {
       "output_type": "stream",
       "stream": "stdout",
       "text": [
        "\n",
        "Tue, 5 May 2009 09:33:05 -0700"
       ]
      },
      {
       "output_type": "stream",
       "stream": "stdout",
       "text": [
        "\n",
        "Thu, 7 May 2009 11:47:11 -0700"
       ]
      },
      {
       "output_type": "stream",
       "stream": "stdout",
       "text": [
        "\n",
        "Fri, 8 May 2009 14:01:32 -0700"
       ]
      },
      {
       "output_type": "stream",
       "stream": "stdout",
       "text": [
        "\n",
        "Tue, 12 May 2009 10:30:50 -0700"
       ]
      },
      {
       "output_type": "stream",
       "stream": "stdout",
       "text": [
        "\n",
        "Tue, 12 May 2009 16:03:07 -0700"
       ]
      },
      {
       "output_type": "stream",
       "stream": "stdout",
       "text": [
        "\n",
        "Tue, 12 May 2009 16:32:57 -0700"
       ]
      },
      {
       "output_type": "stream",
       "stream": "stdout",
       "text": [
        "\n",
        "Mon, 18 May 2009 10:32:26 -0700"
       ]
      },
      {
       "output_type": "stream",
       "stream": "stdout",
       "text": [
        "\n",
        "Mon, 18 May 2009 11:52:59 -0700"
       ]
      },
      {
       "output_type": "stream",
       "stream": "stdout",
       "text": [
        "\n",
        "Tue, 19 May 2009 11:08:45 -0700"
       ]
      },
      {
       "output_type": "stream",
       "stream": "stdout",
       "text": [
        "\n",
        "Wed, 20 May 2009 16:10:57 -0700"
       ]
      },
      {
       "output_type": "stream",
       "stream": "stdout",
       "text": [
        "\n",
        "Thu, 21 May 2009 09:14:12 -0700"
       ]
      },
      {
       "output_type": "stream",
       "stream": "stdout",
       "text": [
        "\n",
        "Fri, 22 May 2009 07:45:05 -0700"
       ]
      },
      {
       "output_type": "stream",
       "stream": "stdout",
       "text": [
        "\n",
        "Wed, 27 May 2009 11:33:47 -0700"
       ]
      },
      {
       "output_type": "stream",
       "stream": "stdout",
       "text": [
        "\n",
        "Wed, 27 May 2009 15:22:51 -0700"
       ]
      },
      {
       "output_type": "stream",
       "stream": "stdout",
       "text": [
        "\n",
        "Thu, 28 May 2009 10:36:07 -0700"
       ]
      },
      {
       "output_type": "stream",
       "stream": "stdout",
       "text": [
        "\n",
        "Fri, 29 May 2009 09:43:59 -0700"
       ]
      },
      {
       "output_type": "stream",
       "stream": "stdout",
       "text": [
        "\n",
        "Fri, 29 May 2009 13:46:30 -0700"
       ]
      },
      {
       "output_type": "stream",
       "stream": "stdout",
       "text": [
        "\n",
        "Mon, 1 Jun 2009 13:33:22 -0700"
       ]
      },
      {
       "output_type": "stream",
       "stream": "stdout",
       "text": [
        "\n",
        "Tue, 2 Jun 2009 09:21:49 -0700"
       ]
      },
      {
       "output_type": "stream",
       "stream": "stdout",
       "text": [
        "\n",
        "Wed, 3 Jun 2009 08:17:31 -0700"
       ]
      },
      {
       "output_type": "stream",
       "stream": "stdout",
       "text": [
        "\n",
        "Fri, 5 Jun 2009 10:59:28 -0700"
       ]
      },
      {
       "output_type": "stream",
       "stream": "stdout",
       "text": [
        "\n",
        "Thu, 20 Aug 2009 09:16:05 -0700"
       ]
      },
      {
       "output_type": "stream",
       "stream": "stdout",
       "text": [
        "\n",
        "Thu, 20 Aug 2009 10:41:27 -0700"
       ]
      },
      {
       "output_type": "stream",
       "stream": "stdout",
       "text": [
        "\n",
        "Thu, 20 Aug 2009 11:42:13 -0700"
       ]
      },
      {
       "output_type": "stream",
       "stream": "stdout",
       "text": [
        "\n",
        "Mon, 24 Aug 2009 08:13:02 -0700"
       ]
      },
      {
       "output_type": "stream",
       "stream": "stdout",
       "text": [
        "\n",
        "Tue, 25 Aug 2009 08:25:26 -0700"
       ]
      },
      {
       "output_type": "stream",
       "stream": "stdout",
       "text": [
        "\n",
        "Tue, 2 Mar 2010 16:44:34 -0800"
       ]
      },
      {
       "output_type": "stream",
       "stream": "stdout",
       "text": [
        "\n",
        "Tue, 25 May 2010 08:21:15 -0700"
       ]
      },
      {
       "output_type": "stream",
       "stream": "stdout",
       "text": [
        "\n",
        "Tue, 6 Jul 2010 08:48:38 -0700"
       ]
      },
      {
       "output_type": "stream",
       "stream": "stdout",
       "text": [
        "\n",
        "Mon, 12 Jul 2010 07:39:57 -0700"
       ]
      },
      {
       "output_type": "stream",
       "stream": "stdout",
       "text": [
        "\n",
        "Thu, 15 Jul 2010 13:36:55 -0700"
       ]
      },
      {
       "output_type": "stream",
       "stream": "stdout",
       "text": [
        "\n",
        "Tue, 20 Jul 2010 08:03:46 -0700"
       ]
      },
      {
       "output_type": "stream",
       "stream": "stdout",
       "text": [
        "\n",
        "Thu, 9 Sep 2010 12:37:53 -0700"
       ]
      },
      {
       "output_type": "stream",
       "stream": "stdout",
       "text": [
        "\n",
        "Fri, 10 Sep 2010 10:57:16 -0700"
       ]
      },
      {
       "output_type": "stream",
       "stream": "stdout",
       "text": [
        "\n",
        "Thu, 16 Sep 2010 13:25:21 -0700"
       ]
      },
      {
       "output_type": "stream",
       "stream": "stdout",
       "text": [
        "\n",
        "Wed, 22 Sep 2010 14:18:33 -0700"
       ]
      },
      {
       "output_type": "stream",
       "stream": "stdout",
       "text": [
        "\n",
        "Mon, 27 Sep 2010 08:00:04 -0700"
       ]
      },
      {
       "output_type": "stream",
       "stream": "stdout",
       "text": [
        "\n",
        "Wed, 27 Oct 2010 15:25:53 -0700"
       ]
      },
      {
       "output_type": "stream",
       "stream": "stdout",
       "text": [
        "\n",
        "Mon, 1 Nov 2010 08:22:52 -0700"
       ]
      },
      {
       "output_type": "stream",
       "stream": "stdout",
       "text": [
        "\n",
        "Mon, 29 Nov 2010 08:49:01 -0800"
       ]
      },
      {
       "output_type": "stream",
       "stream": "stdout",
       "text": [
        "\n",
        "Thu, 6 Jan 2011 08:05:04 -0800"
       ]
      },
      {
       "output_type": "stream",
       "stream": "stdout",
       "text": [
        "\n",
        "Fri, 7 Jan 2011 15:19:37 -0800"
       ]
      },
      {
       "output_type": "stream",
       "stream": "stdout",
       "text": [
        "\n",
        "Fri, 25 Feb 2011 09:46:14 -0800"
       ]
      },
      {
       "output_type": "stream",
       "stream": "stdout",
       "text": [
        "\n",
        "Mon, 18 Apr 2011 08:41:30 -0700"
       ]
      },
      {
       "output_type": "stream",
       "stream": "stdout",
       "text": [
        "\n",
        "Fri, 22 Apr 2011 09:26:40 -0700"
       ]
      },
      {
       "output_type": "stream",
       "stream": "stdout",
       "text": [
        "\n",
        "Tue, 26 Apr 2011 11:00:18 -0700"
       ]
      },
      {
       "output_type": "stream",
       "stream": "stdout",
       "text": [
        "\n",
        "Mon, 2 May 2011 07:54:34 -0700"
       ]
      },
      {
       "output_type": "stream",
       "stream": "stdout",
       "text": [
        "\n",
        "Fri, 6 May 2011 16:35:02 -0700"
       ]
      },
      {
       "output_type": "stream",
       "stream": "stdout",
       "text": [
        "\n",
        "Tue, 10 May 2011 08:57:56 -0700"
       ]
      },
      {
       "output_type": "stream",
       "stream": "stdout",
       "text": [
        "\n",
        "Fri, 13 May 2011 09:10:30 -0700"
       ]
      },
      {
       "output_type": "stream",
       "stream": "stdout",
       "text": [
        "\n",
        "Wed, 18 May 2011 13:56:06 -0700"
       ]
      },
      {
       "output_type": "stream",
       "stream": "stdout",
       "text": [
        "\n",
        "Fri, 20 May 2011 08:13:02 -0700"
       ]
      },
      {
       "output_type": "stream",
       "stream": "stdout",
       "text": [
        "\n",
        "Thu, 26 May 2011 16:47:18 -0700"
       ]
      },
      {
       "output_type": "stream",
       "stream": "stdout",
       "text": [
        "\n",
        "Tue, 31 May 2011 12:10:06 -0700"
       ]
      },
      {
       "output_type": "stream",
       "stream": "stdout",
       "text": [
        "\n",
        "Tue, 31 May 2011 14:25:12 -0700"
       ]
      },
      {
       "output_type": "stream",
       "stream": "stdout",
       "text": [
        "\n",
        "Wed, 1 Jun 2011 08:02:58 -0700"
       ]
      },
      {
       "output_type": "stream",
       "stream": "stdout",
       "text": [
        "\n",
        "Thu, 2 Jun 2011 16:23:11 -0700"
       ]
      },
      {
       "output_type": "stream",
       "stream": "stdout",
       "text": [
        "\n",
        "Thu, 2 Jun 2011 16:36:36 -0700"
       ]
      },
      {
       "output_type": "stream",
       "stream": "stdout",
       "text": [
        "\n",
        "Fri, 3 Jun 2011 07:50:34 -0700"
       ]
      },
      {
       "output_type": "stream",
       "stream": "stdout",
       "text": [
        "\n",
        "Fri, 3 Jun 2011 07:51:25 -0700"
       ]
      },
      {
       "output_type": "stream",
       "stream": "stdout",
       "text": [
        "\n",
        "Fri, 3 Jun 2011 13:06:03 -0700"
       ]
      },
      {
       "output_type": "stream",
       "stream": "stdout",
       "text": [
        "\n",
        "Fri, 3 Jun 2011 15:18:32 -0700"
       ]
      },
      {
       "output_type": "stream",
       "stream": "stdout",
       "text": [
        "\n",
        "Mon, 6 Jun 2011 07:44:42 -0700"
       ]
      },
      {
       "output_type": "stream",
       "stream": "stdout",
       "text": [
        "\n",
        "Wed, 8 Jun 2011 14:55:15 -0700"
       ]
      },
      {
       "output_type": "stream",
       "stream": "stdout",
       "text": [
        "\n",
        "Thu, 9 Jun 2011 08:14:11 -0700"
       ]
      },
      {
       "output_type": "stream",
       "stream": "stdout",
       "text": [
        "\n",
        "Fri, 10 Jun 2011 15:25:35 -0700"
       ]
      },
      {
       "output_type": "stream",
       "stream": "stdout",
       "text": [
        "\n",
        "Mon, 13 Jun 2011 08:35:40 -0700"
       ]
      },
      {
       "output_type": "stream",
       "stream": "stdout",
       "text": [
        "\n",
        "Wed, 17 Aug 2011 10:53:09 -0700"
       ]
      },
      {
       "output_type": "stream",
       "stream": "stdout",
       "text": [
        "\n",
        "Wed, 24 Aug 2011 13:21:19 -0700"
       ]
      },
      {
       "output_type": "stream",
       "stream": "stdout",
       "text": [
        "\n",
        "Mon, 29 Aug 2011 10:04:43 -0700"
       ]
      },
      {
       "output_type": "stream",
       "stream": "stdout",
       "text": [
        "\n",
        "Fri, 2 Sep 2011 10:33:06 -0700"
       ]
      },
      {
       "output_type": "stream",
       "stream": "stdout",
       "text": [
        "\n",
        "Thu, 8 Sep 2011 11:13:15 -0700"
       ]
      },
      {
       "output_type": "stream",
       "stream": "stdout",
       "text": [
        "\n",
        "Tue, 13 Sep 2011 16:12:47 -0700"
       ]
      },
      {
       "output_type": "stream",
       "stream": "stdout",
       "text": [
        "\n",
        "Thu, 15 Sep 2011 09:57:34 -0700"
       ]
      },
      {
       "output_type": "stream",
       "stream": "stdout",
       "text": [
        "\n",
        "Tue, 4 Oct 2011 16:18:30 -0700"
       ]
      },
      {
       "output_type": "stream",
       "stream": "stdout",
       "text": [
        "\n",
        "Fri, 7 Oct 2011 08:08:44 -0700"
       ]
      },
      {
       "output_type": "stream",
       "stream": "stdout",
       "text": [
        "\n",
        "Tue, 18 Oct 2011 12:06:12 -0700"
       ]
      },
      {
       "output_type": "stream",
       "stream": "stdout",
       "text": [
        "\n",
        "Wed, 19 Oct 2011 10:47:21 -0700"
       ]
      },
      {
       "output_type": "stream",
       "stream": "stdout",
       "text": [
        "\n",
        "Tue, 18 Oct 2011 10:45:55 -0700"
       ]
      },
      {
       "output_type": "stream",
       "stream": "stdout",
       "text": [
        "\n",
        "Tue, 25 Oct 2011 08:25:19 -0700"
       ]
      },
      {
       "output_type": "stream",
       "stream": "stdout",
       "text": [
        "\n",
        "Fri, 28 Oct 2011 09:09:34 -0700"
       ]
      },
      {
       "output_type": "stream",
       "stream": "stdout",
       "text": [
        "\n",
        "Tue, 1 Nov 2011 08:14:30 -0700"
       ]
      },
      {
       "output_type": "stream",
       "stream": "stdout",
       "text": [
        "\n",
        "Wed, 23 Nov 2011 11:35:40 -0800"
       ]
      },
      {
       "output_type": "stream",
       "stream": "stdout",
       "text": [
        "\n",
        "Mon, 28 Nov 2011 09:30:18 -0800"
       ]
      },
      {
       "output_type": "stream",
       "stream": "stdout",
       "text": [
        "\n",
        "Wed, 30 Nov 2011 09:22:15 -0800"
       ]
      },
      {
       "output_type": "stream",
       "stream": "stdout",
       "text": [
        "\n",
        "Wed, 30 Nov 2011 13:17:50 -0800"
       ]
      },
      {
       "output_type": "stream",
       "stream": "stdout",
       "text": [
        "\n",
        "Thu, 15 Dec 2011 10:26:59 -0800"
       ]
      },
      {
       "output_type": "stream",
       "stream": "stdout",
       "text": [
        "\n",
        "Fri, 16 Dec 2011 08:37:51 -0800"
       ]
      },
      {
       "output_type": "stream",
       "stream": "stdout",
       "text": [
        "\n",
        "Thu, 9 Feb 2012 09:37:44 -0800"
       ]
      },
      {
       "output_type": "stream",
       "stream": "stdout",
       "text": [
        "\n",
        "Tue, 21 Feb 2012 12:21:35 -0800"
       ]
      },
      {
       "output_type": "stream",
       "stream": "stdout",
       "text": [
        "\n",
        "Thu, 23 Feb 2012 08:27:22 -0800"
       ]
      },
      {
       "output_type": "stream",
       "stream": "stdout",
       "text": [
        "\n",
        "Mon, 19 Mar 2012 10:13:24 -0700"
       ]
      },
      {
       "output_type": "stream",
       "stream": "stdout",
       "text": [
        "\n",
        "Thu, 22 Mar 2012 07:59:56 -0700"
       ]
      },
      {
       "output_type": "stream",
       "stream": "stdout",
       "text": [
        "\n",
        "Mon, 14 May 2012 16:20:48 -0700"
       ]
      },
      {
       "output_type": "stream",
       "stream": "stdout",
       "text": [
        "\n",
        "Mon, 14 May 2012 16:48:34 -0700"
       ]
      },
      {
       "output_type": "stream",
       "stream": "stdout",
       "text": [
        "\n",
        "Tue, 15 May 2012 13:21:16 -0700"
       ]
      },
      {
       "output_type": "stream",
       "stream": "stdout",
       "text": [
        "\n",
        "Wed, 16 May 2012 10:00:29 -0700"
       ]
      },
      {
       "output_type": "stream",
       "stream": "stdout",
       "text": [
        "\n",
        "Thu, 17 May 2012 10:36:59 -0700"
       ]
      },
      {
       "output_type": "stream",
       "stream": "stdout",
       "text": [
        "\n",
        "Thu, 17 May 2012 16:25:08 -0700"
       ]
      },
      {
       "output_type": "stream",
       "stream": "stdout",
       "text": [
        "\n",
        "Fri, 18 May 2012 10:16:34 -0700"
       ]
      },
      {
       "output_type": "stream",
       "stream": "stdout",
       "text": [
        "\n",
        "Mon, 21 May 2012 08:16:23 -0700"
       ]
      },
      {
       "output_type": "stream",
       "stream": "stdout",
       "text": [
        "\n",
        "Mon, 21 May 2012 08:17:36 -0700"
       ]
      },
      {
       "output_type": "stream",
       "stream": "stdout",
       "text": [
        "\n",
        "Tue, 22 May 2012 08:35:59 -0700"
       ]
      },
      {
       "output_type": "stream",
       "stream": "stdout",
       "text": [
        "\n",
        "Wed, 23 May 2012 07:59:11 -0700"
       ]
      },
      {
       "output_type": "stream",
       "stream": "stdout",
       "text": [
        "\n",
        "Wed, 23 May 2012 09:34:29 -0700"
       ]
      },
      {
       "output_type": "stream",
       "stream": "stdout",
       "text": [
        "\n",
        "Thu, 24 May 2012 09:21:55 -0700 (PDT)"
       ]
      },
      {
       "output_type": "stream",
       "stream": "stdout",
       "text": [
        "\n",
        "Tue, 29 May 2012 10:11:56 -0700"
       ]
      },
      {
       "output_type": "stream",
       "stream": "stdout",
       "text": [
        "\n",
        "Wed, 30 May 2012 12:56:56 -0700"
       ]
      },
      {
       "output_type": "stream",
       "stream": "stdout",
       "text": [
        "\n",
        "Fri, 1 Jun 2012 08:25:30 -0700"
       ]
      },
      {
       "output_type": "stream",
       "stream": "stdout",
       "text": [
        "\n",
        "Fri, 1 Jun 2012 16:32:37 -0700"
       ]
      },
      {
       "output_type": "stream",
       "stream": "stdout",
       "text": [
        "\n",
        "Tue, 5 Jun 2012 08:19:28 -0700"
       ]
      },
      {
       "output_type": "stream",
       "stream": "stdout",
       "text": [
        "\n",
        "Fri, 8 Jun 2012 01:01:55 -0700 (PDT)"
       ]
      },
      {
       "output_type": "stream",
       "stream": "stdout",
       "text": [
        "\n",
        "Fri, 8 Jun 2012 08:40:12 -0700 (PDT)"
       ]
      },
      {
       "output_type": "stream",
       "stream": "stdout",
       "text": [
        "\n",
        "Tue, 12 Jun 2012 16:50:37 -0700"
       ]
      },
      {
       "output_type": "stream",
       "stream": "stdout",
       "text": [
        "\n",
        "Thu, 14 Jun 2012 10:46:05 -0700"
       ]
      },
      {
       "output_type": "stream",
       "stream": "stdout",
       "text": [
        "\n",
        "Mon, 18 Jun 2012 08:18:32 -0700"
       ]
      },
      {
       "output_type": "stream",
       "stream": "stdout",
       "text": [
        "\n",
        "Thu, 21 Jun 2012 09:00:10 -0700"
       ]
      },
      {
       "output_type": "stream",
       "stream": "stdout",
       "text": [
        "\n",
        "Fri, 3 Aug 2012 15:47:57 -0700"
       ]
      },
      {
       "output_type": "stream",
       "stream": "stdout",
       "text": [
        "\n",
        "Mon, 6 Aug 2012 16:12:58 -0700"
       ]
      },
      {
       "output_type": "stream",
       "stream": "stdout",
       "text": [
        "\n",
        "Tue, 7 Aug 2012 09:20:59 -0700"
       ]
      },
      {
       "output_type": "stream",
       "stream": "stdout",
       "text": [
        "\n",
        "Mon, 13 Aug 2012 08:15:21 -0700"
       ]
      },
      {
       "output_type": "stream",
       "stream": "stdout",
       "text": [
        "\n",
        "Wed, 15 Aug 2012 13:39:51 -0700"
       ]
      },
      {
       "output_type": "stream",
       "stream": "stdout",
       "text": [
        "\n",
        "Fri, 17 Aug 2012 09:09:33 -0700 (PDT)"
       ]
      },
      {
       "output_type": "stream",
       "stream": "stdout",
       "text": [
        "\n",
        "Sat, 15 Sep 2012 18:08:59 -0700 (PDT)"
       ]
      },
      {
       "output_type": "stream",
       "stream": "stdout",
       "text": [
        "\n",
        "Mon, 17 Sep 2012 08:18:56 -0700"
       ]
      },
      {
       "output_type": "stream",
       "stream": "stdout",
       "text": [
        "\n",
        "Wed, 5 Dec 2012 14:28:33 -0800"
       ]
      },
      {
       "output_type": "stream",
       "stream": "stdout",
       "text": [
        "\n",
        "Fri, 7 Dec 2012 09:17:53 -0800"
       ]
      },
      {
       "output_type": "stream",
       "stream": "stdout",
       "text": [
        "\n",
        "Fri, 7 Dec 2012 09:22:54 -0800"
       ]
      },
      {
       "output_type": "stream",
       "stream": "stdout",
       "text": [
        "\n",
        "Thu, 7 Mar 2013 15:35:47 -0800"
       ]
      },
      {
       "output_type": "stream",
       "stream": "stdout",
       "text": [
        "\n",
        "Fri, 8 Mar 2013 13:13:37 -0800"
       ]
      },
      {
       "output_type": "stream",
       "stream": "stdout",
       "text": [
        "\n",
        "Mon, 11 Mar 2013 09:27:42 -0700"
       ]
      },
      {
       "output_type": "stream",
       "stream": "stdout",
       "text": [
        "\n",
        "Wed, 13 Mar 2013 08:02:35 -0700"
       ]
      },
      {
       "output_type": "stream",
       "stream": "stdout",
       "text": [
        "\n",
        "Wed, 3 Apr 2013 09:02:02 -0700"
       ]
      },
      {
       "output_type": "stream",
       "stream": "stdout",
       "text": [
        "\n",
        "Fri, 5 Apr 2013 08:15:41 -0700"
       ]
      },
      {
       "output_type": "stream",
       "stream": "stdout",
       "text": [
        "\n",
        "Wed, 24 Apr 2013 16:20:44 -0700"
       ]
      },
      {
       "output_type": "stream",
       "stream": "stdout",
       "text": [
        "\n",
        "Mon, 29 Apr 2013 11:59:18 -0700"
       ]
      },
      {
       "output_type": "stream",
       "stream": "stdout",
       "text": [
        "\n",
        "Wed, 1 May 2013 08:30:47 -0700"
       ]
      },
      {
       "output_type": "stream",
       "stream": "stdout",
       "text": [
        "\n",
        "Wed, 1 May 2013 16:56:49 -0700"
       ]
      },
      {
       "output_type": "stream",
       "stream": "stdout",
       "text": [
        "\n",
        "Mon, 6 May 2013 08:02:39 -0700"
       ]
      },
      {
       "output_type": "stream",
       "stream": "stdout",
       "text": [
        "\n",
        "Mon, 6 May 2013 11:52:02 -0700"
       ]
      },
      {
       "output_type": "stream",
       "stream": "stdout",
       "text": [
        "\n",
        "Tue, 7 May 2013 09:10:55 -0700"
       ]
      },
      {
       "output_type": "stream",
       "stream": "stdout",
       "text": [
        "\n",
        "Fri, 10 May 2013 08:05:18 -0700"
       ]
      },
      {
       "output_type": "stream",
       "stream": "stdout",
       "text": [
        "\n",
        "Tue, 14 May 2013 16:34:52 -0700"
       ]
      },
      {
       "output_type": "stream",
       "stream": "stdout",
       "text": [
        "\n",
        "Fri, 17 May 2013 08:35:50 -0700"
       ]
      },
      {
       "output_type": "stream",
       "stream": "stdout",
       "text": [
        "\n",
        "Fri, 24 May 2013 08:27:56 -0700"
       ]
      },
      {
       "output_type": "stream",
       "stream": "stdout",
       "text": [
        "\n",
        "Wed, 29 May 2013 16:55:00 -0700"
       ]
      },
      {
       "output_type": "stream",
       "stream": "stdout",
       "text": [
        "\n",
        "Thu, 30 May 2013 08:20:31 -0700"
       ]
      },
      {
       "output_type": "stream",
       "stream": "stdout",
       "text": [
        "\n",
        "Wed, 5 Jun 2013 09:18:48 -0700"
       ]
      },
      {
       "output_type": "stream",
       "stream": "stdout",
       "text": [
        "\n",
        "Fri, 14 Jun 2013 08:06:51 -0700"
       ]
      },
      {
       "output_type": "stream",
       "stream": "stdout",
       "text": [
        "\n",
        "Mon, 17 Jun 2013 09:56:53 -0700"
       ]
      },
      {
       "output_type": "stream",
       "stream": "stdout",
       "text": [
        "\n",
        "Wed, 19 Jun 2013 11:12:01 -0700"
       ]
      },
      {
       "output_type": "stream",
       "stream": "stdout",
       "text": [
        "\n",
        "Thu, 20 Jun 2013 09:05:10 -0700"
       ]
      },
      {
       "output_type": "stream",
       "stream": "stdout",
       "text": [
        "\n",
        "Wed, 31 Jul 2013 16:19:47 -0700"
       ]
      },
      {
       "output_type": "stream",
       "stream": "stdout",
       "text": [
        "\n",
        "Fri, 2 Aug 2013 10:04:01 -0700"
       ]
      },
      {
       "output_type": "stream",
       "stream": "stdout",
       "text": [
        "\n",
        "Fri, 6 Sep 2013 15:15:13 -0700"
       ]
      },
      {
       "output_type": "stream",
       "stream": "stdout",
       "text": [
        "\n",
        "Fri, 13 Sep 2013 09:53:56 -0700"
       ]
      },
      {
       "output_type": "stream",
       "stream": "stdout",
       "text": [
        "\n",
        "Tue, 17 Sep 2013 09:27:28 -0700"
       ]
      },
      {
       "output_type": "stream",
       "stream": "stdout",
       "text": [
        "\n",
        "Wed, 18 Sep 2013 09:17:44 -0700"
       ]
      },
      {
       "output_type": "stream",
       "stream": "stdout",
       "text": [
        "\n",
        "Thu, 26 Sep 2013 12:02:02 -0700"
       ]
      },
      {
       "output_type": "stream",
       "stream": "stdout",
       "text": [
        "\n",
        "Fri, 27 Sep 2013 09:21:53 -0700"
       ]
      },
      {
       "output_type": "stream",
       "stream": "stdout",
       "text": [
        "\n",
        "Tue, 12 Nov 2013 09:38:09 -0800"
       ]
      },
      {
       "output_type": "stream",
       "stream": "stdout",
       "text": [
        "\n",
        "Fri, 15 Nov 2013 08:52:51 -0800"
       ]
      },
      {
       "output_type": "stream",
       "stream": "stdout",
       "text": [
        "\n",
        "Tue, 3 Dec 2013 11:28:19 -0800"
       ]
      },
      {
       "output_type": "stream",
       "stream": "stdout",
       "text": [
        "\n",
        "Thu, 5 Dec 2013 09:01:39 -0800"
       ]
      },
      {
       "output_type": "stream",
       "stream": "stdout",
       "text": [
        "\n",
        "Thu, 5 Dec 2013 11:21:50 -0800"
       ]
      },
      {
       "output_type": "stream",
       "stream": "stdout",
       "text": [
        "\n",
        "Mon, 9 Dec 2013 08:10:46 -0800"
       ]
      },
      {
       "output_type": "stream",
       "stream": "stdout",
       "text": [
        "\n",
        "Mon, 6 Jan 2014 16:45:25 -0800"
       ]
      },
      {
       "output_type": "stream",
       "stream": "stdout",
       "text": [
        "\n",
        "Wed, 8 Jan 2014 09:26:02 -0800"
       ]
      },
      {
       "output_type": "stream",
       "stream": "stdout",
       "text": [
        "\n",
        "Thu, 13 Mar 2014 13:25:54 -0700"
       ]
      },
      {
       "output_type": "stream",
       "stream": "stdout",
       "text": [
        "\n",
        "Wed, 19 Mar 2014 09:59:08 -0700"
       ]
      },
      {
       "output_type": "stream",
       "stream": "stdout",
       "text": [
        "\n",
        "Thu, 27 Mar 2014 14:24:17 -0700"
       ]
      },
      {
       "output_type": "stream",
       "stream": "stdout",
       "text": [
        "\n",
        "Tue, 8 Apr 2014 16:11:43 -0700"
       ]
      },
      {
       "output_type": "stream",
       "stream": "stdout",
       "text": [
        "\n",
        "Fri, 11 Apr 2014 11:31:15 -0700"
       ]
      },
      {
       "output_type": "stream",
       "stream": "stdout",
       "text": [
        "\n",
        "Wed, 16 Apr 2014 11:53:45 -0700"
       ]
      },
      {
       "output_type": "stream",
       "stream": "stdout",
       "text": [
        "\n",
        "Wed, 16 Apr 2014 14:06:32 -0700"
       ]
      },
      {
       "output_type": "stream",
       "stream": "stdout",
       "text": [
        "\n",
        "Tue, 22 Apr 2014 08:14:30 -0700"
       ]
      },
      {
       "output_type": "stream",
       "stream": "stdout",
       "text": [
        "\n",
        "Wed, 23 Apr 2014 08:11:09 -0700"
       ]
      },
      {
       "output_type": "stream",
       "stream": "stdout",
       "text": [
        "\n",
        "Tue, 29 Apr 2014 14:17:53 -0700"
       ]
      },
      {
       "output_type": "stream",
       "stream": "stdout",
       "text": [
        "\n",
        "Fri, 2 May 2014 16:05:44 -0700"
       ]
      },
      {
       "output_type": "stream",
       "stream": "stdout",
       "text": [
        "\n",
        "Tue, 6 May 2014 07:55:26 -0700"
       ]
      },
      {
       "output_type": "stream",
       "stream": "stdout",
       "text": [
        "\n",
        "Fri, 9 May 2014 08:00:55 -0700"
       ]
      },
      {
       "output_type": "stream",
       "stream": "stdout",
       "text": [
        "\n",
        "Thu, 15 May 2014 14:41:54 -0700"
       ]
      },
      {
       "output_type": "stream",
       "stream": "stdout",
       "text": [
        "\n",
        "Wed, 21 May 2014 09:06:43 -0700"
       ]
      },
      {
       "output_type": "stream",
       "stream": "stdout",
       "text": [
        "\n",
        "Thu, 22 May 2014 15:58:20 -0700"
       ]
      },
      {
       "output_type": "stream",
       "stream": "stdout",
       "text": [
        "\n",
        "Thu, 22 May 2014 16:42:39 -0700"
       ]
      },
      {
       "output_type": "stream",
       "stream": "stdout",
       "text": [
        "\n",
        "Fri, 23 May 2014 09:16:15 -0700"
       ]
      },
      {
       "output_type": "stream",
       "stream": "stdout",
       "text": [
        "\n",
        "Tue, 27 May 2014 08:38:36 -0700"
       ]
      },
      {
       "output_type": "stream",
       "stream": "stdout",
       "text": [
        "\n",
        "Thu, 29 May 2014 13:20:21 -0700"
       ]
      },
      {
       "output_type": "stream",
       "stream": "stdout",
       "text": [
        "\n",
        "Thu, 29 May 2014 15:48:53 -0700"
       ]
      },
      {
       "output_type": "stream",
       "stream": "stdout",
       "text": [
        "\n",
        "Thu, 29 May 2014 15:50:20 -0700"
       ]
      },
      {
       "output_type": "stream",
       "stream": "stdout",
       "text": [
        "\n",
        "Thu, 29 May 2014 15:55:03 -0700"
       ]
      },
      {
       "output_type": "stream",
       "stream": "stdout",
       "text": [
        "\n",
        "Thu, 29 May 2014 15:58:25 -0700"
       ]
      },
      {
       "output_type": "stream",
       "stream": "stdout",
       "text": [
        "\n",
        "Thu, 29 May 2014 15:59:01 -0700"
       ]
      },
      {
       "output_type": "stream",
       "stream": "stdout",
       "text": [
        "\n",
        "Tue, 3 Jun 2014 08:13:06 -0700"
       ]
      },
      {
       "output_type": "stream",
       "stream": "stdout",
       "text": [
        "\n",
        "Wed, 4 Jun 2014 08:13:18 -0700"
       ]
      },
      {
       "output_type": "stream",
       "stream": "stdout",
       "text": [
        "\n",
        "Wed, 4 Jun 2014 09:25:00 -0700"
       ]
      },
      {
       "output_type": "stream",
       "stream": "stdout",
       "text": [
        "\n",
        "Wed, 4 Jun 2014 16:31:07 -0700"
       ]
      },
      {
       "output_type": "stream",
       "stream": "stdout",
       "text": [
        "\n",
        "Thu, 5 Jun 2014 08:50:21 -0700"
       ]
      },
      {
       "output_type": "stream",
       "stream": "stdout",
       "text": [
        "\n",
        "Thu, 5 Jun 2014 13:00:39 -0700"
       ]
      },
      {
       "output_type": "stream",
       "stream": "stdout",
       "text": [
        "\n",
        "Thu, 5 Jun 2014 16:56:15 -0700"
       ]
      },
      {
       "output_type": "stream",
       "stream": "stdout",
       "text": [
        "\n",
        "Fri, 6 Jun 2014 09:33:40 -0700"
       ]
      },
      {
       "output_type": "stream",
       "stream": "stdout",
       "text": [
        "\n"
       ]
      }
     ],
     "prompt_number": 77
    },
    {
     "cell_type": "code",
     "collapsed": false,
     "input": [
      "print len(data)"
     ],
     "language": "python",
     "metadata": {},
     "outputs": [
      {
       "output_type": "stream",
       "stream": "stdout",
       "text": [
        "210\n"
       ]
      }
     ],
     "prompt_number": 79
    },
    {
     "cell_type": "code",
     "collapsed": false,
     "input": [
      "def load():\n",
      "    data = json.load(open('data/emails.txt','r'))"
     ],
     "language": "python",
     "metadata": {},
     "outputs": [],
     "prompt_number": 82
    },
    {
     "cell_type": "code",
     "collapsed": false,
     "input": [
      "GENDER = {'Mr':'male',\n",
      "          'Ms':'female'\n",
      "          }\n",
      "PLACES = {'Mayer Hall':['Mayer','MH'],\n",
      "          'Urey Hall':['Urey','UH'],\n",
      "          'SERF':['SERF'],\n",
      "          'NSB':['Natural Sciences Building', 'NSB'],\n",
      "          'CMRR':['CMRR'],\n",
      "          'Pacific Hall':['Pacific'],\n",
      "          'Faculty Club':['Faculty Club'],\n",
      "          'Salk':['Frederic de Hoffmann'],\n",
      "          'Jacobs':['EBU1'],\n",
      "          'VizLab':['VizLab'],\n",
      "          }\n",
      "DATE_CORR = {'Wedsnesday':'Wednesday',\n",
      "               'Mondday':'Monday',\n",
      "               'Tuesday, June 2 2009':'Tuesday, June 2, 2009',\n",
      "               'PST ':'',\n",
      "               }\n",
      "PROF_CORR = {'Alex Groisman':'Alexander Groisman',\n",
      "             'Dmitri Basov':'Dimitri Basov',\n",
      "             'Ivan K Schuller':'Ivan Schuller',\n",
      "             'Ken Intriligator':'Kenneth Intriligator',\n",
      "             'Dr Keith Burrell and Dr Patrick Diamond':'Pat Diamond',\n",
      "             'M. Brian Maple':'Brian Maple',\n",
      "             'Lu Jeu Sham':'Lu Sham',\n",
      "             'Terry Hwa':'Terence Hwa',\n",
      "             'Yeshaiahu (Shaya) Fainman':'Yeshaiahu Fainman'}\n",
      "\n",
      "PHYS_GROUPS = {'Astrophysics':['Coil','Wolfe','Tytler','Griest','Fuller',\n",
      "                               'Shu','Diamond','Paar','Norman','Rothschild',\n",
      "                               'Keating',],\n",
      "               'Biophysics':['Abarbanel','Dudko','Groisman','Jun',\n",
      "                             'Kleinfeld','Schoetz','Di Ventra','Hwa',\n",
      "                             'Wolynes','Onuchic','Song','Lauga','Nguyen',\n",
      "                             'Holst','Sharpee','Kristan','Jiang'],\n",
      "                'Condensed Matter':[\n",
      "                            'Arovas','Di Ventra','Fogler','Fredkin',\n",
      "                            'Hirsch','Levine','Sham','Suhl','Wu',\n",
      "                            # Exp\n",
      "                            'Basov','Barreiro','Berkowitz','Butov',\n",
      "                            'Dynes','Goodkind','Maple','Schuller',\n",
      "                            'Schultz','Shpyrko','Sinha','Smith',\n",
      "                            'Tu','Fainman','Meyer','Lomakin','Liu'],\n",
      "               'Plasma Physics':['Driscoll','Dubin',\"O'Neil\",'Surko','Continetti'],\n",
      "               'High Energy':['Manohar','Grinstein','Intriligator','Jenkins',\n",
      "                             'Kuti','Sharma','Wuerthwein','Yagil','Branson'],\n",
      "               }\n",
      "COLORS = {'Astrophysics':'blue',\n",
      "           'Biophysics':'green',\n",
      "           'Condensed Matter':'DarkRed',\n",
      "           'Plasma Physics':'black',\n",
      "           'High Energy':'OrangeRed',\n",
      "           }\n",
      "\n",
      "BAD = [1279661400, 1331661600, 1363042800, 1401901200, 1338577200,\n",
      "       1401307200]\n",
      "\n",
      "def parse_event(event):\n",
      "    tmp = '%(date)s %(time)s'%event\n",
      "    tmp = tmp.replace('.','')\n",
      "    for key,correct in DATE_CORR.iteritems():\n",
      "        tmp = tmp.replace(key,correct)\n",
      "\n",
      "    try:\n",
      "        talk = datetime.strptime(tmp,'%A, %B %d, %Y %I:%M %p')\n",
      "    except:\n",
      "        talk = datetime.strptime(tmp,'%B %d, %Y %I:%M %p')\n",
      "    return talk\n",
      "\n",
      "\n",
      "def get_date(event):\n",
      "    sent = parsedate_tz(event['sent'])\n",
      "    talk = parse_event(event)\n",
      "    timetuple = talk.timetuple()[:-1] + sent[-2:]\n",
      "    epoch = mktime_tz(timetuple)\n",
      "    date = datetime.fromtimestamp(epoch)\n",
      "    return epoch, date\n",
      "\n",
      "\n",
      "def get_name(event):\n",
      "    tmp = event['student']\n",
      "    for key in GENDER:\n",
      "        tmp = tmp.replace(key,'')\n",
      "    tmp = tmp.replace('. Micha Adler','Micha Adler')\n",
      "    return tmp.strip()\n",
      "\n",
      "\n",
      "def get_gender(event):\n",
      "    for key,item in GENDER.iteritems():\n",
      "        if event['student'].startswith(key):\n",
      "            return item\n",
      "\n",
      "        \n",
      "def get_place(event):\n",
      "    for key,items in PLACES.iteritems():\n",
      "        for item in items:\n",
      "            if item in event['place']:\n",
      "                return key\n",
      "\n",
      "def get_advisor(event):\n",
      "    tmp = event['research supervisor']\n",
      "    tmp = tmp.replace('Professor','')\n",
      "    for key,correct in PROF_CORR.iteritems():\n",
      "        tmp = tmp.replace(key,correct)\n",
      "    return tmp.strip()\n",
      "\n",
      "def get_research(name):\n",
      "    for key,people in PHYS_GROUPS.iteritems():\n",
      "        for person in people:\n",
      "            if person in name:\n",
      "                return key\n",
      "\n",
      "\n",
      "def clean_data(data):\n",
      "    out = {}\n",
      "    for event in data.itervalues():\n",
      "        try:\n",
      "            key,date = get_date(event)\n",
      "            if key in BAD:\n",
      "                continue\n",
      "            advisor = get_advisor(event)\n",
      "            out[key] = dict(name=get_name(event),\n",
      "                            epoch=key,\n",
      "                            date=date,\n",
      "                            gender=get_gender(event),\n",
      "                            advisor=advisor,\n",
      "                            place=get_place(event),\n",
      "                            title=event['title'],\n",
      "                            research=get_research(advisor),\n",
      "                            )\n",
      "        except Exception as e:\n",
      "            print e\n",
      "            pprint(event)\n",
      "    return out\n",
      "\n",
      "out = clean_data(data)"
     ],
     "language": "python",
     "metadata": {},
     "outputs": [],
     "prompt_number": 81
    },
    {
     "cell_type": "code",
     "collapsed": false,
     "input": [
      "def find_bad():\n",
      "    names = []\n",
      "    for o in out.itervalues():\n",
      "        name = o['name']\n",
      "        if name not in names:\n",
      "            names.append(name)\n",
      "        else:\n",
      "            for x in out.itervalues():\n",
      "                if x['name'] == name:\n",
      "                    pprint(x)\n",
      "                    # \n",
      "# find_bad()"
     ],
     "language": "python",
     "metadata": {},
     "outputs": [],
     "prompt_number": 88
    },
    {
     "cell_type": "code",
     "collapsed": false,
     "input": [
      "df = pd.DataFrame(out).T\n",
      "df['advisor_rank'] = np.zeros(len(df))\n",
      "for advisor, group in df.groupby('advisor'):\n",
      "    tmp = (df['advisor'] == advisor)\n",
      "    df.loc[tmp,'advisor_rank'] = len(np.where(tmp)[0])\n",
      "\n",
      "df['research_rank'] = np.zeros(len(df))\n",
      "for advisor, group in df.groupby('research'):\n",
      "    tmp = (df['research'] == advisor)\n",
      "    df.loc[tmp,'research_rank'] = len(np.where(tmp)[0])\n",
      "\n",
      "df.to_pickle('data/dataframe.pickle')"
     ],
     "language": "python",
     "metadata": {},
     "outputs": [],
     "prompt_number": 84
    },
    {
     "cell_type": "code",
     "collapsed": false,
     "input": [
      "pickle.dump(out,open('data/out.pickle','w'))"
     ],
     "language": "python",
     "metadata": {},
     "outputs": [],
     "prompt_number": 87
    },
    {
     "cell_type": "code",
     "collapsed": false,
     "input": [],
     "language": "python",
     "metadata": {},
     "outputs": []
    }
   ],
   "metadata": {}
  }
 ]
}